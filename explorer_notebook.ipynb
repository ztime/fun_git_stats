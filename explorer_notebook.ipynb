{
 "cells": [
  {
   "cell_type": "code",
   "execution_count": null,
   "id": "2e237bc3",
   "metadata": {},
   "outputs": [],
   "source": [
    "import pandas as pd\n",
    "import plotly.express as px"
   ]
  },
  {
   "cell_type": "code",
   "execution_count": null,
   "id": "09071b03",
   "metadata": {},
   "outputs": [],
   "source": [
    "commits_df = pd.read_csv('for_ed.csv', lineterminator='\\n')[['author','date','message','stats_insertions','stats_deletions','stats_lines','hour','minute','day','message_length','neg','neu','pos','compound']]"
   ]
  },
  {
   "cell_type": "code",
   "execution_count": null,
   "id": "99965905",
   "metadata": {},
   "outputs": [],
   "source": [
    "author=''"
   ]
  },
  {
   "cell_type": "code",
   "execution_count": null,
   "id": "f4999169",
   "metadata": {},
   "outputs": [],
   "source": [
    "by_author = commits_df.loc[commits_df['author'] == author]"
   ]
  },
  {
   "cell_type": "code",
   "execution_count": null,
   "id": "890187c4",
   "metadata": {},
   "outputs": [],
   "source": [
    "commits_df"
   ]
  },
  {
   "cell_type": "code",
   "execution_count": null,
   "id": "51582241",
   "metadata": {},
   "outputs": [],
   "source": [
    "by_author_total = commits_df \\\n",
    "    .groupby(['author'])['date'] \\\n",
    "    .agg(['count']) \\\n",
    "    .sort_values('count', ascending=False)\n",
    "by_author_total"
   ]
  },
  {
   "cell_type": "code",
   "execution_count": null,
   "id": "6964d70f",
   "metadata": {},
   "outputs": [],
   "source": [
    "all_means = commits_df \\\n",
    "    .groupby(['author']) \\\n",
    "    .mean() \\\n",
    "    .sort_values(by=['pos'], ascending=False)\n",
    "all_means"
   ]
  },
  {
   "cell_type": "code",
   "execution_count": null,
   "id": "4ca01451",
   "metadata": {},
   "outputs": [],
   "source": [
    "all_vars = commits_df \\\n",
    "    .groupby(['author']) \\\n",
    "    .var() \\\n",
    "    .sort_values(by=['compound'], ascending=False)\n",
    "all_vars"
   ]
  },
  {
   "cell_type": "code",
   "execution_count": null,
   "id": "c33616da",
   "metadata": {},
   "outputs": [],
   "source": [
    "hist_message_length = px.histogram(by_author, x=\"message_length\")\n",
    "hist_message_length.show()"
   ]
  },
  {
   "cell_type": "code",
   "execution_count": null,
   "id": "0a15d378",
   "metadata": {},
   "outputs": [],
   "source": [
    "all_means['useless'] = 0\n",
    "m_length = px.scatter(all_means.reset_index(), x='message_length', y='useless', hover_data=['author'], labels=dict(message_length='Message length'))\n",
    "m_length.update_traces(marker=dict(size=12,\n",
    "                              line=dict(width=30,\n",
    "                                        color='DarkSlateGrey')),\n",
    "                  selector=dict(mode='markers'))\n",
    "#m_length.update_layout({\n",
    "    #'plot_bgcolor': 'rgba(0, 0, 0, 0)',\n",
    "    #'paper_bgcolor': 'rgba(0, 0, 0, 0)',\n",
    "    #'yaxis':{'visible':False}\n",
    "#})\n",
    "m_length.add_annotation(x=30, y=0,\n",
    "            text=\"Text annotation with arrow\",\n",
    "            showarrow=True,\n",
    "            yshift=30,\n",
    "            font=dict(\n",
    "                family=\"Courier New, monospace\",\n",
    "                size=16,\n",
    "                color=\"#ffffff\"\n",
    "            ),\n",
    "        arrowhead=2,\n",
    "        arrowsize=1,\n",
    "        arrowwidth=2,\n",
    "        )\n",
    "m_length.update_xaxes(\n",
    "        tickangle = 45,\n",
    "        title_text = \"Message length\",\n",
    "        title_font = {\"size\": 40, 'color':'white'},\n",
    "        title_standoff = 25,\n",
    "        tickfont=dict(color='white', size=40)\n",
    ")\n",
    "m_length.show()"
   ]
  },
  {
   "cell_type": "code",
   "execution_count": null,
   "id": "33c89aa1",
   "metadata": {},
   "outputs": [],
   "source": [
    "by_day = by_author\n",
    "by_day = by_day \\\n",
    "    .groupby(['date']) \\\n",
    "    .sum() \\\n",
    "    .reset_index() \\\n",
    "    .sort_values(by=['date'], ascending=True)\n",
    "by_day['cumsum_insertions'] = by_day['stats_insertions'].cumsum()\n",
    "by_day['cumsum_deletions'] = by_day['stats_deletions'].cumsum()\n",
    "by_day['rate_of_increase'] = by_day['cumsum_insertions'].diff()\n",
    "by_day\n",
    "by_day_g = px.line(by_day, x='day', y=['cumsum_insertions','cumsum_deletions'])\n",
    "by_day_g.show()"
   ]
  },
  {
   "cell_type": "code",
   "execution_count": null,
   "id": "d963395f",
   "metadata": {},
   "outputs": [],
   "source": [
    "by_day_count = by_author\n",
    "by_day_count = by_day_count \\\n",
    "    .groupby(['day']) \\\n",
    "    .size() \\\n",
    "    .reset_index() \\\n",
    "    .sort_values(by=['day'], ascending=True) \\\n",
    "    .rename(columns={0: 'count'})\n",
    "\n",
    "by_day_count['count_commits'] = by_day_count['count'].cumsum()\n",
    "by_day_count\n",
    "by_day_count_g = px.line(by_day_count, x='day', y='count_commits')\n",
    "by_day_count_g.show()"
   ]
  },
  {
   "cell_type": "code",
   "execution_count": null,
   "id": "c7b8bf04",
   "metadata": {},
   "outputs": [],
   "source": [
    "by_day_count_all = commits_df[commits_df['author'] != author]\n",
    "by_day_count_all = by_day_count_all \\\n",
    "    .groupby(['day']) \\\n",
    "    .size() \\\n",
    "    .reset_index() \\\n",
    "    .sort_values(by=['day'], ascending=True) \\\n",
    "    .rename(columns={0: 'count'})\n",
    "\n",
    "by_day_count_all['count_commits'] = by_day_count_all['count'].cumsum()\n",
    "by_day_count_all\n",
    "by_day_count_all_g = px.line(by_day_count_all, x='day', y='count_commits')\n",
    "by_day_count_all_g.show()"
   ]
  },
  {
   "cell_type": "code",
   "execution_count": null,
   "id": "413b7a70",
   "metadata": {},
   "outputs": [],
   "source": [
    "by_day = commits_df[commits_df['author'] != author]\n",
    "by_day['day'] = pd.to_datetime(by_day['date']).dt.date\n",
    "by_day = by_day \\\n",
    "    .groupby(['day']) \\\n",
    "    .sum() \\\n",
    "    .reset_index() \\\n",
    "    .sort_values(by=['day'], ascending=True)\n",
    "by_day['cumsum_insertions'] = by_day['stats_insertions'].cumsum()\n",
    "by_day['cumsum_deletions'] = by_day['stats_deletions'].cumsum()\n",
    "by_day['rate_of_increase'] = by_day['cumsum_insertions'].diff()\n",
    "by_day\n",
    "by_day_g = px.line(by_day, x='day', y=['cumsum_insertions','cumsum_deletions'])\n",
    "by_day_g.show()"
   ]
  },
  {
   "cell_type": "code",
   "execution_count": null,
   "id": "99172c12",
   "metadata": {},
   "outputs": [],
   "source": [
    "all_sums = commits_df \\\n",
    "    .groupby(['author']) \\\n",
    "    .sum() \\\n",
    "    .sort_values(by=['stats_insertions'], ascending=False)\n",
    "all_sums['insertion_ratio'] = all_sums['stats_insertions']/all_sums['stats_deletions']\n",
    "all_sums"
   ]
  },
  {
   "cell_type": "code",
   "execution_count": null,
   "id": "963c7c32",
   "metadata": {},
   "outputs": [],
   "source": [
    "import plotly.figure_factory as ff\n",
    "stuff = [ a_and_b[a_and_b['Group'] == \"All\"]['hour'], a_and_b[a_and_b['Group'] != \"All\"]['hour'] ] \n",
    "fig = ff.create_distplot(stuff, ['Everyone else','Ed'], show_rug=False)\n",
    "fig.update_layout({\n",
    "    'plot_bgcolor': 'rgba(0, 0, 0, 0)',\n",
    "    'paper_bgcolor': 'rgba(0, 0, 0, 0)'\n",
    "})\n",
    "fig.show()"
   ]
  },
  {
   "cell_type": "code",
   "execution_count": null,
   "id": "2acb6d1e",
   "metadata": {},
   "outputs": [],
   "source": [
    "a = by_author\n",
    "a['Group'] = author\n",
    "b = commits_df\n",
    "b['Group'] = 'All'\n",
    "a_and_b = pd.concat([a,b])\n",
    "hour_histogram = px.histogram(a_and_b, x='hour', color='Group', barmode='overlay', template='plotly_dark')\n",
    "hour_histogram.update_xaxes(range=[0,23])\n",
    "hour_histogram.update_layout({\n",
    "    'plot_bgcolor': 'rgba(0, 0, 0, 0)',\n",
    "    'paper_bgcolor': 'rgba(0, 0, 0, 0)',\n",
    "})\n",
    "hour_histogram.show()"
   ]
  },
  {
   "cell_type": "code",
   "execution_count": null,
   "id": "2c228f32",
   "metadata": {},
   "outputs": [],
   "source": [
    "f = px.bar(a_and_b.groupby(by=['hour','Group']).mean().reset_index(), x='hour', y='stats_insertions', color=\"Group\", barmode=\"overlay\",template = 'plotly_dark',labels={\n",
    "                     \"stats_insertions\": \"Insertions\",\n",
    "                     \"hour\": \"Hour of day\"\n",
    "                 })\n",
    "f.update_layout({\n",
    "    'plot_bgcolor': 'rgba(0, 0, 0, 0)',\n",
    "    'paper_bgcolor': 'rgba(0, 0, 0, 0)',\n",
    "})\n",
    "f.show()"
   ]
  },
  {
   "cell_type": "code",
   "execution_count": null,
   "id": "b96c4e60",
   "metadata": {},
   "outputs": [],
   "source": [
    "hour_histogram_all = px.histogram(b, x='hour', color='Group', barmode='overlay', template='plotly_dark', color_discrete_sequence=['indianred'])\n",
    "hour_histogram_all.update_layout({\n",
    "    'plot_bgcolor': 'rgba(0, 0, 0, 0)',\n",
    "    'paper_bgcolor': 'rgba(0, 0, 0, 0)',\n",
    "})\n",
    "hour_histogram_all.show()"
   ]
  },
  {
   "cell_type": "code",
   "execution_count": null,
   "id": "1103c69f",
   "metadata": {},
   "outputs": [],
   "source": [
    "minute_histogram = px.histogram(by_author, x='minute')\n",
    "minute_histogram.show()"
   ]
  },
  {
   "cell_type": "code",
   "execution_count": null,
   "id": "4d948146",
   "metadata": {},
   "outputs": [],
   "source": [
    "means = by_author.groupby(['hour']).mean().reset_index()\n",
    "msg_length = px.scatter(means, x='hour', y='compound',template = 'plotly_dark',\n",
    "                        labels={\n",
    "                     \"message_length\": \"Message length\",\n",
    "                     \"hour\": \"Hour of day\"\n",
    "                 })\n",
    "msg_length.update_traces(marker=dict(size=12,\n",
    "                              line=dict(width=30,\n",
    "                                        color='DarkSlateGrey')),\n",
    "                  selector=dict(mode='markers'))\n",
    "msg_length.update_layout({\n",
    "    'plot_bgcolor': 'rgba(0, 0, 0, 0)',\n",
    "    'paper_bgcolor': 'rgba(0, 0, 0, 0)',\n",
    "})\n",
    "msg_length.show()"
   ]
  },
  {
   "cell_type": "code",
   "execution_count": null,
   "id": "e3e6452c",
   "metadata": {},
   "outputs": [],
   "source": [
    "means"
   ]
  },
  {
   "cell_type": "code",
   "execution_count": null,
   "id": "fc514cd9",
   "metadata": {},
   "outputs": [],
   "source": [
    "means_all = commits_df.groupby(['hour']).mean().reset_index()\n",
    "msg_length_all = px.scatter(means_all, x='hour', y='stats_insertions',template = 'plotly_dark')\n",
    "msg_length_all.show()"
   ]
  },
  {
   "cell_type": "code",
   "execution_count": null,
   "id": "fa51bc71",
   "metadata": {},
   "outputs": [],
   "source": [
    "means_days = commits_df.groupby(['day']).mean().reset_index()\n",
    "msg_length_all = px.scatter(means_all, x='hour', y='stats_insertions',template = 'plotly_dark')\n",
    "msg_length_all.show()"
   ]
  },
  {
   "cell_type": "code",
   "execution_count": null,
   "id": "9278b474",
   "metadata": {},
   "outputs": [],
   "source": [
    "import plotly.express as px\n",
    "weekday_histogram = px.histogram(by_author, x='day',template = 'plotly_dark',labels={\n",
    "                     \"Count\": \"Commits\",\n",
    "                     \"day\": \"Day of the week\"\n",
    "                 })\n",
    "weekday_histogram.update_layout({\n",
    "    'plot_bgcolor': 'rgba(0, 0, 0, 0)',\n",
    "    'paper_bgcolor': 'rgba(0, 0, 0, 0)',\n",
    "})\n",
    "weekday_histogram.show()"
   ]
  },
  {
   "cell_type": "code",
   "execution_count": null,
   "id": "9591d5d4",
   "metadata": {},
   "outputs": [],
   "source": [
    "by_author"
   ]
  },
  {
   "cell_type": "code",
   "execution_count": null,
   "id": "42e6ca16",
   "metadata": {},
   "outputs": [],
   "source": [
    "weekday_histogram_all = px.histogram(commits_df, x='day')\n",
    "weekday_histogram_all.show()"
   ]
  },
  {
   "cell_type": "code",
   "execution_count": null,
   "id": "030d0538",
   "metadata": {},
   "outputs": [],
   "source": [
    "import plotly.graph_objects as go\n",
    "from scipy import signal\n",
    "means_day = by_author.groupby(['day']).mean().reset_index()\n",
    "msg_length_day = px.bar(means_day, x='day', y=['stats_deletions','stats_insertions'], template = 'plotly_dark', barmode='group')\n",
    "msg_length_day.update_layout({\n",
    "    'plot_bgcolor': 'rgba(0, 0, 0, 0)',\n",
    "    'paper_bgcolor': 'rgba(0, 0, 0, 0)',\n",
    "})\n",
    "msg_length_day.show()"
   ]
  },
  {
   "cell_type": "code",
   "execution_count": null,
   "id": "10089373",
   "metadata": {},
   "outputs": [],
   "source": [
    "by_message = by_author.copy()\n",
    "by_message['message_processed'] = by_message['message'].apply(lambda x: x.lower().split(' '))\n",
    "exploded = by_message \\\n",
    "    .explode('message_processed') \\\n",
    "    .groupby('message_processed') \\\n",
    "    .count() \\\n",
    "    .reset_index() \\\n",
    "    .sort_values('date', ascending=False)\n",
    "filter_words = ['merge', 'branch', \"'master'\", 'of', 'github.com:spqt/bidbrain-api', 'for', '','to','the','not','with','it','a','when',\"'origin/master'\", 'and','in']\n",
    "exploded.loc[ ~exploded['message_processed'].isin(filter_words), : ][['message_processed', 'date']].head(60)"
   ]
  },
  {
   "cell_type": "code",
   "execution_count": null,
   "id": "db7ab47b",
   "metadata": {},
   "outputs": [],
   "source": [
    "means_day = by_author.groupby(['day']).mean().reset_index().rename(columns={'pos':'Positive', 'neg':'Negative', 'neu':'Neutral','compound':'Mood'})\n",
    "mood_per_day = px.line(means_day, x='day', y=['Positive', 'Negative'], template = 'plotly_dark', line_shape='spline')\n",
    "mood_per_day.update_layout({\n",
    "    'plot_bgcolor': 'rgba(0, 0, 0, 0)',\n",
    "    'paper_bgcolor': 'rgba(0, 0, 0, 0)',\n",
    "})\n",
    "mood_per_day.update_traces(line=dict(width=10))\n",
    "for idx in range(len(mood_per_day.data)):\n",
    "    mood_per_day.data[idx].x = ['Monday','Thuesday','Wednesday','Thursday','Friday']\n",
    "mood_per_day.show()"
   ]
  },
  {
   "cell_type": "code",
   "execution_count": null,
   "id": "ec012234",
   "metadata": {},
   "outputs": [],
   "source": [
    "commits_df['day'] = pd.to_datetime(commits_df['date']).dt.strftime('%Y-%m-%d')\n",
    "means_dates = commits_df.groupby(['day']).mean().reset_index().rename(columns={'pos':'Positive', 'neg':'Negative'})\n",
    "means_dates\n",
    "mood_per_date = px.line(means_dates, x='day', y=['stats_insertions','Negative'], template = 'plotly_dark')\n",
    "mood_per_date.update_layout({\n",
    "    'plot_bgcolor': 'rgba(0, 0, 0, 0)',\n",
    "    'paper_bgcolor': 'rgba(0, 0, 0, 0)',\n",
    "})\n",
    "#mood_per_date.update_traces(line=dict(width=10))\n",
    "mood_per_date.show()"
   ]
  },
  {
   "cell_type": "code",
   "execution_count": null,
   "id": "81cbf410",
   "metadata": {},
   "outputs": [],
   "source": [
    "means_dates"
   ]
  },
  {
   "cell_type": "code",
   "execution_count": null,
   "id": "9b2fc338",
   "metadata": {},
   "outputs": [],
   "source": [
    "msg_length_day = px.bar(means_day, x='day', y='neg', template = 'plotly_dark')\n",
    "msg_length_day.show()"
   ]
  },
  {
   "cell_type": "code",
   "execution_count": null,
   "id": "a87cf89a",
   "metadata": {},
   "outputs": [],
   "source": [
    "msg_length_day = px.bar(means_day, x='day', y='neu', template = 'plotly_dark')\n",
    "msg_length_day.show()"
   ]
  },
  {
   "cell_type": "code",
   "execution_count": null,
   "id": "5125b89f",
   "metadata": {},
   "outputs": [],
   "source": [
    "commits_df.sort_values(by=['pos'], ascending=False)"
   ]
  },
  {
   "cell_type": "code",
   "execution_count": null,
   "id": "b14df441",
   "metadata": {},
   "outputs": [],
   "source": [
    "for index, row in by_author.sort_values(by=['pos'], ascending=False).head(10).iterrows():\n",
    "    print(row.message)\n",
    "    print(row.hour)"
   ]
  },
  {
   "cell_type": "code",
   "execution_count": null,
   "id": "e75d2468",
   "metadata": {},
   "outputs": [],
   "source": [
    "merges_by_day = by_author[by_author['message'].str.contains(\"Merge pull request\") ].groupby('day').count().reset_index()\n",
    "\n",
    "merges_by_day = px.bar(merges_by_day, x='day', y=['author'], template = 'plotly_dark')\n",
    "merges_by_day.update_layout({\n",
    "    'plot_bgcolor': 'rgba(0, 0, 0, 0)',\n",
    "    'paper_bgcolor': 'rgba(0, 0, 0, 0)',\n",
    "})\n",
    "for idx in range(len(merges_by_day.data)):\n",
    "    merges_by_day.data[idx].x = ['Monday','Thuesday','Wednesday','Thursday','Friday','Saturday','Sunday']\n",
    "merges_by_day.show()"
   ]
  },
  {
   "cell_type": "code",
   "execution_count": null,
   "id": "18e2ee64",
   "metadata": {},
   "outputs": [],
   "source": [
    "merges_by_day_all = commits_df[commits_df['message'].str.contains(\"Merge pull request\", na=False) ].groupby('day').count().reset_index()\n",
    "\n",
    "merges_by_day_all = px.bar(merges_by_day_all, x='day', y=['author'], template = 'plotly_dark')\n",
    "merges_by_day_all.update_layout({\n",
    "    'plot_bgcolor': 'rgba(0, 0, 0, 0)',\n",
    "    'paper_bgcolor': 'rgba(0, 0, 0, 0)',\n",
    "})\n",
    "for idx in range(len(merges_by_day.data)):\n",
    "    merges_by_day_all.data[idx].x = ['Monday','Thuesday','Wednesday','Thursday','Friday','Saturday','Sunday']\n",
    "merges_by_day_all.show()"
   ]
  },
  {
   "cell_type": "code",
   "execution_count": null,
   "id": "e907d768",
   "metadata": {},
   "outputs": [],
   "source": [
    "by_author[~by_author['message'].str.contains(\"Merge pull request\") ]"
   ]
  },
  {
   "cell_type": "code",
   "execution_count": null,
   "id": "399ab524",
   "metadata": {},
   "outputs": [],
   "source": [
    "commits_df[commits_df['message'].str.contains(\"Merge pull request\", na=False)] "
   ]
  },
  {
   "cell_type": "code",
   "execution_count": null,
   "id": "5bdbb634",
   "metadata": {},
   "outputs": [],
   "source": [
    "commits_df[~commits_df['message'].str.contains(\"Merge pull request\", na=False) ]"
   ]
  },
  {
   "cell_type": "code",
   "execution_count": null,
   "id": "bc247c34",
   "metadata": {},
   "outputs": [],
   "source": [
    "723/10391"
   ]
  },
  {
   "cell_type": "code",
   "execution_count": null,
   "id": "c4fbaa1e",
   "metadata": {},
   "outputs": [],
   "source": [
    "72/287"
   ]
  },
  {
   "cell_type": "code",
   "execution_count": null,
   "id": "14866a78",
   "metadata": {},
   "outputs": [],
   "source": [
    "commits_df[commits_df['message'].str.contains(\"Merge pull request\", na=False)].groupby('author').count()"
   ]
  },
  {
   "cell_type": "code",
   "execution_count": null,
   "id": "5769bc31",
   "metadata": {},
   "outputs": [],
   "source": []
  }
 ],
 "metadata": {
  "kernelspec": {
   "display_name": "gitstats",
   "language": "python",
   "name": "gitstats"
  },
  "language_info": {
   "codemirror_mode": {
    "name": "ipython",
    "version": 3
   },
   "file_extension": ".py",
   "mimetype": "text/x-python",
   "name": "python",
   "nbconvert_exporter": "python",
   "pygments_lexer": "ipython3",
   "version": "3.10.4"
  }
 },
 "nbformat": 4,
 "nbformat_minor": 5
}
